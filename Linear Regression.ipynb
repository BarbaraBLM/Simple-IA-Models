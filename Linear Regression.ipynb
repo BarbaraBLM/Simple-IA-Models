{
 "cells": [
  {
   "cell_type": "markdown",
   "metadata": {},
   "source": [
    "## <center><font color='blue'>Trabalho 2 - Regressão Linear - TEIA 💻</font></center><br><font size=3>Aluna: Bárbara Lúcia</font>"
   ]
  },
  {
   "cell_type": "code",
   "execution_count": 87,
   "metadata": {},
   "outputs": [],
   "source": [
    "import numpy as np\n",
    "import pandas as pd\n",
    "import matplotlib.pyplot as plt\n",
    "\n",
    "# Configuring floats to not be printed in cientific notation\n",
    "np.set_printoptions(formatter={'all':lambda x: str(x)})"
   ]
  },
  {
   "cell_type": "code",
   "execution_count": 88,
   "metadata": {},
   "outputs": [],
   "source": [
    "class LRTrainer():\n",
    "    \n",
    "    \n",
    "    def __init__(self, alfa=0.1, max_iterations=500, analitic=False, theta=None, convergence=None):\n",
    "            \n",
    "            self.alfa = alfa\n",
    "            self.max_iterations = max_iterations\n",
    "            self.analitic = analitic\n",
    "            self.theta = theta\n",
    "            self.convergence = convergence\n",
    "            self._trained = False\n",
    "            \n",
    "    def fit(self, X, y):\n",
    "        \n",
    "        if self.analitic:\n",
    "            \n",
    "            # Verifying if the data matrix already has the 1's column \n",
    "            if ((len(np.unique(X[:, 0])) == 1) and (np.unique(X[:, 0]) == [1])):\n",
    "                pass\n",
    "            else:\n",
    "                # adding the 1's column\n",
    "                X = np.c_[np.ones(len(X)), X] \n",
    "            \n",
    "            \n",
    "            # Verifying the singularity of matrix\n",
    "            sing = True\n",
    "            \n",
    "            if(len(X) == len(X[0])):   # square, so we can calculate the determinant\n",
    "                if (np.linalg.det(X)) != 0:    # matrix is not singular\n",
    "                    X = np.matrix(X)\n",
    "                    y =  np.transpose(np.matrix(y))\n",
    "                    self.theta = np.transpose(np.linalg.inv((np.transpose(X)*X))*np.dot(np.transpose(X), y))\n",
    "\n",
    "                    sing = False\n",
    "                    self._trained = True\n",
    "\n",
    "            if(sing):    # matrix is singular\n",
    "                X = np.matrix(X)\n",
    "                y =  np.transpose(np.matrix(y))\n",
    "                self.theta = np.transpose(np.linalg.pinv((np.transpose(X)*X))*np.transpose(X)*y)\n",
    "            \n",
    "                self._trained = True\n",
    "            \n",
    "            \n",
    "            # Calculating train error\n",
    "            erro = 0.0\n",
    "        \n",
    "            # Looping through lines of X\n",
    "            for i in range(len(X)):\n",
    "                erro += ((np.inner(X[i], self.theta) - y[i])**2)\n",
    "\n",
    "            return (np.array(self.theta), float(erro)) \n",
    "        \n",
    "        else:\n",
    "            \n",
    "            # Verifying if the data matrix already has the 1's column\n",
    "            if ((len(np.unique(X[:, 0])) == 1) and (np.unique(X[:, 0]) == [1])):\n",
    "                pass\n",
    "            else:\n",
    "                # adding the 1's column\n",
    "                X = np.c_[np.ones(len(X)), X] \n",
    "                \n",
    "            # Initializing parameters\n",
    "            theta = np.zeros(len(X[0]))\n",
    "        \n",
    "            \n",
    "            convergence = np.zeros(self.max_iterations)\n",
    "\n",
    "            for i in range(self.max_iterations):\n",
    "                soma = error = 0.0\n",
    "                \n",
    "                # Looping through lines of X\n",
    "                for point, out in zip(X, y):\n",
    "\n",
    "                    # Summing (prediction - y)\n",
    "                    dif = np.inner(point, theta) - out\n",
    "                    soma += dif * point\n",
    "                    error += dif**2 \n",
    "                    \n",
    "\n",
    "                    \n",
    "                # Updating theta\n",
    "                theta = theta - (self.alfa)*(1/len(X))*soma\n",
    "                error = (1/(2*len(X)))*error\n",
    "                convergence[i] = error\n",
    "            \n",
    "            self.theta = theta\n",
    "            self.conv = convergence\n",
    "            self._trained = True\n",
    "            return (theta, convergence)\n",
    "        \n",
    "        \n",
    "    def predict(self, X, y=None):\n",
    "        \n",
    "        if not self._trained:\n",
    "            raise RuntimeError(\"You must train classifer before predicting data!\")\n",
    "            \n",
    "        # Verifying if the data matrix already has the 1's column \n",
    "        if ((len(np.unique(X[:, 0])) == 1) and (np.unique(X[:, 0]) == [1])):\n",
    "            pass\n",
    "        else:\n",
    "            # adicionando as colunas com 1's\n",
    "            X = np.c_[np.ones(len(X)), X] \n",
    "\n",
    "        pred = np.zeros(len(X))\n",
    "        \n",
    "        # Percorrendo linha a linha de X, ou seja, percorrendo as instâncias de dados\n",
    "        for i in range(len(X)):\n",
    "            pred[i] = np.inner(X[i], theta)\n",
    "            \n",
    "        if y is None:\n",
    "            return pred\n",
    "        else:\n",
    "            return (pred, pred - y, sum((pred - y)**2))     \n",
    "        \n",
    "    def GD_error_graf(self):\n",
    "        if self.analitic == True:\n",
    "            print(\"The train was analitic, so there is not gradient descend error.\")\n",
    "            return None\n",
    "        plt.figure(figsize=(14,9))\n",
    "        plt.plot([i for i in range(self.max_iterations)], conv)\n",
    "    "
   ]
  },
  {
   "cell_type": "code",
   "execution_count": 89,
   "metadata": {},
   "outputs": [
    {
     "data": {
      "text/html": [
       "<div>\n",
       "<style scoped>\n",
       "    .dataframe tbody tr th:only-of-type {\n",
       "        vertical-align: middle;\n",
       "    }\n",
       "\n",
       "    .dataframe tbody tr th {\n",
       "        vertical-align: top;\n",
       "    }\n",
       "\n",
       "    .dataframe thead th {\n",
       "        text-align: right;\n",
       "    }\n",
       "</style>\n",
       "<table border=\"1\" class=\"dataframe\">\n",
       "  <thead>\n",
       "    <tr style=\"text-align: right;\">\n",
       "      <th></th>\n",
       "      <th>Speed</th>\n",
       "      <th>Angle</th>\n",
       "      <th>Power</th>\n",
       "    </tr>\n",
       "  </thead>\n",
       "  <tbody>\n",
       "    <tr>\n",
       "      <th>0</th>\n",
       "      <td>1</td>\n",
       "      <td>-5</td>\n",
       "      <td>0.3</td>\n",
       "    </tr>\n",
       "    <tr>\n",
       "      <th>1</th>\n",
       "      <td>2</td>\n",
       "      <td>5</td>\n",
       "      <td>0.3</td>\n",
       "    </tr>\n",
       "    <tr>\n",
       "      <th>2</th>\n",
       "      <td>3</td>\n",
       "      <td>-2</td>\n",
       "      <td>0.5</td>\n",
       "    </tr>\n",
       "    <tr>\n",
       "      <th>3</th>\n",
       "      <td>1</td>\n",
       "      <td>2</td>\n",
       "      <td>0.5</td>\n",
       "    </tr>\n",
       "    <tr>\n",
       "      <th>4</th>\n",
       "      <td>2</td>\n",
       "      <td>0</td>\n",
       "      <td>0.7</td>\n",
       "    </tr>\n",
       "    <tr>\n",
       "      <th>5</th>\n",
       "      <td>6</td>\n",
       "      <td>-5</td>\n",
       "      <td>0.5</td>\n",
       "    </tr>\n",
       "    <tr>\n",
       "      <th>6</th>\n",
       "      <td>7</td>\n",
       "      <td>5</td>\n",
       "      <td>0.5</td>\n",
       "    </tr>\n",
       "    <tr>\n",
       "      <th>7</th>\n",
       "      <td>6</td>\n",
       "      <td>-2</td>\n",
       "      <td>0.3</td>\n",
       "    </tr>\n",
       "    <tr>\n",
       "      <th>8</th>\n",
       "      <td>7</td>\n",
       "      <td>2</td>\n",
       "      <td>0.3</td>\n",
       "    </tr>\n",
       "    <tr>\n",
       "      <th>9</th>\n",
       "      <td>6</td>\n",
       "      <td>0</td>\n",
       "      <td>0.7</td>\n",
       "    </tr>\n",
       "    <tr>\n",
       "      <th>10</th>\n",
       "      <td>8</td>\n",
       "      <td>-5</td>\n",
       "      <td>0.5</td>\n",
       "    </tr>\n",
       "    <tr>\n",
       "      <th>11</th>\n",
       "      <td>9</td>\n",
       "      <td>5</td>\n",
       "      <td>0.5</td>\n",
       "    </tr>\n",
       "    <tr>\n",
       "      <th>12</th>\n",
       "      <td>10</td>\n",
       "      <td>-2</td>\n",
       "      <td>0.3</td>\n",
       "    </tr>\n",
       "    <tr>\n",
       "      <th>13</th>\n",
       "      <td>8</td>\n",
       "      <td>2</td>\n",
       "      <td>0.3</td>\n",
       "    </tr>\n",
       "    <tr>\n",
       "      <th>14</th>\n",
       "      <td>9</td>\n",
       "      <td>0</td>\n",
       "      <td>0.5</td>\n",
       "    </tr>\n",
       "  </tbody>\n",
       "</table>\n",
       "</div>"
      ],
      "text/plain": [
       "    Speed  Angle  Power\n",
       "0       1     -5    0.3\n",
       "1       2      5    0.3\n",
       "2       3     -2    0.5\n",
       "3       1      2    0.5\n",
       "4       2      0    0.7\n",
       "5       6     -5    0.5\n",
       "6       7      5    0.5\n",
       "7       6     -2    0.3\n",
       "8       7      2    0.3\n",
       "9       6      0    0.7\n",
       "10      8     -5    0.5\n",
       "11      9      5    0.5\n",
       "12     10     -2    0.3\n",
       "13      8      2    0.3\n",
       "14      9      0    0.5"
      ]
     },
     "execution_count": 89,
     "metadata": {},
     "output_type": "execute_result"
    }
   ],
   "source": [
    "# Data dowloaded from https://archive.ics.uci.edu/ml/datasets/Container+Crane+Controller+Data+Set \n",
    "\n",
    "data = pd.read_csv('Container_Crane_Controller_Data_Set.csv', sep=';')\n",
    "data"
   ]
  },
  {
   "cell_type": "code",
   "execution_count": 90,
   "metadata": {},
   "outputs": [],
   "source": [
    "# Separating train and test\n",
    "\n",
    "X_train = data[['Speed', 'Angle']][0:10].to_numpy()\n",
    "y_train = data['Power'][0:10].to_numpy()\n",
    "\n",
    "X_test = data[['Speed', 'Angle']][10:-1].to_numpy()\n",
    "y_test = data['Power'][10:-1].to_numpy()"
   ]
  },
  {
   "cell_type": "markdown",
   "metadata": {},
   "source": [
    "## Analítico"
   ]
  },
  {
   "cell_type": "code",
   "execution_count": 91,
   "metadata": {},
   "outputs": [
    {
     "name": "stdout",
     "output_type": "stream",
     "text": [
      "Theta :  [[0.45708952940456377 0.0007098708769355741 -4.8956612202463376e-05]] \n",
      "\n",
      "Erro de Treino Analítico :  0.2239716051649226\n"
     ]
    }
   ],
   "source": [
    "trainer = LRTrainer(analitic=True)\n",
    "theta, erro_treino = trainer.fit(X_train, y_train)\n",
    "\n",
    "print(\"Theta : \", theta, \"\\n\\nErro de Treino Analítico : \", erro_treino)"
   ]
  },
  {
   "cell_type": "code",
   "execution_count": 92,
   "metadata": {},
   "outputs": [
    {
     "name": "stdout",
     "output_type": "stream",
     "text": [
      "Erro de Teste Analítico :  0.056171445001363465\n"
     ]
    }
   ],
   "source": [
    "pred, error, total_error = trainer.predict(X_test, y_test)\n",
    "print(\"Erro de Teste Analítico : \", total_error)"
   ]
  },
  {
   "cell_type": "markdown",
   "metadata": {},
   "source": [
    "## Gradiente Descendente"
   ]
  },
  {
   "cell_type": "code",
   "execution_count": 93,
   "metadata": {},
   "outputs": [
    {
     "name": "stdout",
     "output_type": "stream",
     "text": [
      "Theta :  [0.06579230624780787 0.07297081122776464 -0.005105111044377687] \n",
      "\n",
      "Erro de Treino Gradiente Descendente :  0.03043458242402568\n"
     ]
    }
   ],
   "source": [
    "trainer = LRTrainer(alfa=0.001)\n",
    "theta, conv = trainer.fit(X_train, y_train)\n",
    "\n",
    "print(\"Theta : \", theta, \"\\n\\nErro de Treino Gradiente Descendente : \", conv[-1])"
   ]
  },
  {
   "cell_type": "code",
   "execution_count": 95,
   "metadata": {},
   "outputs": [
    {
     "name": "stdout",
     "output_type": "stream",
     "text": [
      "Erro de Teste Gradiente Descendente :  0.44036583329504764\n"
     ]
    }
   ],
   "source": [
    "pred, error, total_error = trainer.predict(X_test, y_test)\n",
    "print(\"Erro de Teste Gradiente Descendente : \", total_error)"
   ]
  },
  {
   "cell_type": "markdown",
   "metadata": {},
   "source": [
    "## Curva de erro do Gradiente Descendente"
   ]
  },
  {
   "cell_type": "code",
   "execution_count": 96,
   "metadata": {},
   "outputs": [
    {
     "data": {
      "image/png": "[encoded data removed]",
      "text/plain": [
       "<Figure size 1008x648 with 1 Axes>"
      ]
     },
     "metadata": {
      "needs_background": "light"
     },
     "output_type": "display_data"
    }
   ],
   "source": [
    "trainer.GD_error_graf()"
   ]
  }
 ],
 "metadata": {
  "kernelspec": {
   "display_name": "Python 3",
   "language": "python",
   "name": "python3"
  },
  "language_info": {
   "codemirror_mode": {
    "name": "ipython",
    "version": 3
   },
   "file_extension": ".py",
   "mimetype": "text/x-python",
   "name": "python",
   "nbconvert_exporter": "python",
   "pygments_lexer": "ipython3",
   "version": "3.8.5"
  }
 },
 "nbformat": 4,
 "nbformat_minor": 2
}
